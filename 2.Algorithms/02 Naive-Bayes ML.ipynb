{
 "cells": [
  {
   "cell_type": "markdown",
   "id": "7b62e5d3",
   "metadata": {},
   "source": [
    "# Naïve-Bayes Algorithm Implementation on UNSW-NB15 Dataset"
   ]
  },
  {
   "cell_type": "markdown",
   "id": "acd10115",
   "metadata": {},
   "source": [
    "Implementation of Naïve-Bayes Classifier algorithm on the University of New South Wales NB15 Dataset."
   ]
  },
  {
   "cell_type": "markdown",
   "id": "3e828edf",
   "metadata": {},
   "source": [
    "## Importing Libraries"
   ]
  },
  {
   "cell_type": "code",
   "execution_count": null,
   "id": "fc8fe51c",
   "metadata": {},
   "outputs": [],
   "source": [
    "import pandas as pd\n",
    "import numpy as np\n",
    "import matplotlib as plt\n",
    "from sklearn.model_selection import train_test_split\n",
    "from sklearn.naive_bayes import GaussianNB\n",
    "\n"
   ]
  }
 ],
 "metadata": {
  "kernelspec": {
   "display_name": "Python 3 (ipykernel)",
   "language": "python",
   "name": "python3"
  },
  "language_info": {
   "codemirror_mode": {
    "name": "ipython",
    "version": 3
   },
   "file_extension": ".py",
   "mimetype": "text/x-python",
   "name": "python",
   "nbconvert_exporter": "python",
   "pygments_lexer": "ipython3",
   "version": "3.9.12"
  }
 },
 "nbformat": 4,
 "nbformat_minor": 5
}
