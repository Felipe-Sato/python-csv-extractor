{
 "cells": [
  {
   "cell_type": "markdown",
   "id": "4d4ee168",
   "metadata": {},
   "source": [
    "# 2.2 - Support Vector Machine Algorithm Implementation on the UNSW-NB15 Dataset"
   ]
  },
  {
   "cell_type": "markdown",
   "id": "88d90708",
   "metadata": {},
   "source": [
    "Implementation of Support Vector Machine Classifier algorithm on the University of New South Wales NB15 Dataset."
   ]
  },
  {
   "cell_type": "markdown",
   "id": "a66fc276",
   "metadata": {},
   "source": [
    "## Importing libraries and fitting the data"
   ]
  },
  {
   "cell_type": "code",
   "execution_count": 1,
   "id": "333dc102",
   "metadata": {},
   "outputs": [],
   "source": [
    "import pandas as pd\n",
    "import pickle as pk\n",
    "import numpy as np\n",
    "import matplotlib as plt\n",
    "from sklearn.svm import SVC"
   ]
  },
  {
   "cell_type": "code",
   "execution_count": 2,
   "id": "76d103d7",
   "metadata": {},
   "outputs": [],
   "source": [
    "with open('../1.Data_Processing/dataset-nids.pkl', 'rb') as f:\n",
    "    X_train, y_train, X_test, y_test = pk.load(f)"
   ]
  },
  {
   "cell_type": "code",
   "execution_count": 3,
   "id": "61e8de4d",
   "metadata": {},
   "outputs": [
    {
     "data": {
      "text/plain": [
       "((3549974, 7), (3549974,), (508003, 7), (508003,))"
      ]
     },
     "execution_count": 3,
     "metadata": {},
     "output_type": "execute_result"
    }
   ],
   "source": [
    "X_train.shape, y_train.shape, X_test.shape, y_test.shape"
   ]
  },
  {
   "cell_type": "code",
   "execution_count": 4,
   "id": "bb4832f5",
   "metadata": {},
   "outputs": [],
   "source": [
    "svc = SVC()\n",
    "\n",
    "#y_pred = svc.fit(X_train, y_train).predict(X_test)\n",
    "#print(\"Number of mislabeled points out of a total %d points : %d\"\n",
    "#      % (X_test.shape[0], (y_test != y_pred).sum()))"
   ]
  },
  {
   "cell_type": "markdown",
   "id": "3aed8030",
   "metadata": {},
   "source": [
    "## Plotting the Confusion Matrix"
   ]
  },
  {
   "cell_type": "code",
   "execution_count": 5,
   "id": "f22f215a",
   "metadata": {},
   "outputs": [],
   "source": [
    "from sklearn.metrics import accuracy_score, recall_score, f1_score\n",
    "from sklearn.metrics import precision_recall_curve, auc, roc_curve, roc_auc_score\n",
    "from sklearn.metrics import confusion_matrix, ConfusionMatrixDisplay\n",
    "import matplotlib.pyplot as plt"
   ]
  },
  {
   "cell_type": "code",
   "execution_count": null,
   "id": "098ed45b",
   "metadata": {},
   "outputs": [],
   "source": [
    "svc_fit = svc.fit(X_train, y_train)\n",
    "ConfusionMatrixDisplay.from_estimator(svc_fit, X_test, y_test, cmap = 'Blues', display_labels=['Normal', 'Anômalo'])\n",
    "plt.show()"
   ]
  },
  {
   "cell_type": "code",
   "execution_count": null,
   "id": "ddea518f",
   "metadata": {},
   "outputs": [],
   "source": [
    "svc_fit = abc.fit(X_train, y_train)\n",
    "ConfusionMatrixDisplay.from_estimator(svc_fit, X_test, y_test, normalize = 'all', cmap = 'Blues', display_labels=['Normal', 'Anômalo'])\n",
    "plt.show()"
   ]
  },
  {
   "cell_type": "markdown",
   "id": "e7f7a79f",
   "metadata": {},
   "source": [
    "## Plotting the ROC curve"
   ]
  },
  {
   "cell_type": "code",
   "execution_count": null,
   "id": "b2f51f10",
   "metadata": {},
   "outputs": [],
   "source": [
    "y_pred_prob = svc_fit.predict_proba(X_test)[::,1]"
   ]
  },
  {
   "cell_type": "code",
   "execution_count": null,
   "id": "10093467",
   "metadata": {},
   "outputs": [],
   "source": [
    "fpr, tpr, _ = roc_curve(y_test,  y_pred_prob)\n",
    "auc = roc_auc_score(y_test, y_pred_prob)\n",
    "plt.plot(fpr,tpr,color='blue',label=\"auc=\"+str(round(auc,4)))\n",
    "plt.ylabel('\\nSensibilidade \\n(TVP)')\n",
    "plt.xlabel('\\n 1 - Especifidade \\n(TFP)')\n",
    "plt.title('Curva ROC')\n",
    "plt.legend(loc=4)\n",
    "plt.show()"
   ]
  },
  {
   "cell_type": "markdown",
   "id": "704ae154",
   "metadata": {},
   "source": [
    "## Executing the Cross Validation"
   ]
  },
  {
   "cell_type": "code",
   "execution_count": null,
   "id": "b24210a5",
   "metadata": {},
   "outputs": [],
   "source": [
    "X_train = np.concatenate((X_train,X_test), axis = 0)\n",
    "y_train = np.concatenate((y_train,y_test), axis = 0)"
   ]
  },
  {
   "cell_type": "code",
   "execution_count": null,
   "id": "00a0baca",
   "metadata": {},
   "outputs": [],
   "source": [
    "X_train.shape, y_train.shape"
   ]
  },
  {
   "cell_type": "code",
   "execution_count": null,
   "id": "16acdbaa",
   "metadata": {},
   "outputs": [],
   "source": [
    "from sklearn.model_selection import KFold, cross_validate"
   ]
  },
  {
   "cell_type": "code",
   "execution_count": null,
   "id": "fb8b83a8",
   "metadata": {},
   "outputs": [],
   "source": [
    "metrics = ['accuracy', 'precision', 'recall', 'f1', 'roc_auc' ]\n",
    "svc = SVC()\n",
    "svc.fit(X_train, y_train)\n",
    "metrics = cross_validate(svc, X_train, y_train, cv=10, scoring= metrics)\n",
    "\n",
    "for met in metrics:\n",
    "    print(f\"- {met}:\")\n",
    "    print(f\"-- {metrics[met]}\\n\")\n",
    "    print(f\"-- {np.mean(metrics[met])} +- {np.std(metrics[met])}\\n\")  "
   ]
  },
  {
   "cell_type": "code",
   "execution_count": null,
   "id": "aafb27b7",
   "metadata": {},
   "outputs": [],
   "source": []
  }
 ],
 "metadata": {
  "kernelspec": {
   "display_name": "Python 3 (ipykernel)",
   "language": "python",
   "name": "python3"
  },
  "language_info": {
   "codemirror_mode": {
    "name": "ipython",
    "version": 3
   },
   "file_extension": ".py",
   "mimetype": "text/x-python",
   "name": "python",
   "nbconvert_exporter": "python",
   "pygments_lexer": "ipython3",
   "version": "3.9.12"
  }
 },
 "nbformat": 4,
 "nbformat_minor": 5
}
