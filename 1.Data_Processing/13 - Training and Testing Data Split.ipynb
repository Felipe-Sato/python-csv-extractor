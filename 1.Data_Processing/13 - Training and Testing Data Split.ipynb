{
 "cells": [
  {
   "cell_type": "markdown",
   "id": "7beb3091",
   "metadata": {},
   "source": [
    "# 03 - Separating between the Training and the Testing data to be utilized"
   ]
  },
  {
   "cell_type": "markdown",
   "id": "3ebd30ed",
   "metadata": {},
   "source": [
    "We'll use the sklearn library to split the dataset preprocessed into training and testing datasets."
   ]
  },
  {
   "cell_type": "code",
   "execution_count": 1,
   "id": "a1e173bd",
   "metadata": {},
   "outputs": [],
   "source": [
    "import pandas as pd\n",
    "import pickle as pk\n",
    "import numpy as np\n",
    "from sklearn.model_selection import train_test_split"
   ]
  },
  {
   "cell_type": "code",
   "execution_count": 2,
   "id": "05ff104e",
   "metadata": {},
   "outputs": [],
   "source": [
    "df = pd.read_csv(\"../Dataset/Dataset-Preprocessed.csv\", index_col = [0])"
   ]
  },
  {
   "cell_type": "code",
   "execution_count": 3,
   "id": "ed14bb43",
   "metadata": {},
   "outputs": [],
   "source": [
    "X = df.iloc[:,:47]\n",
    "y = df.Label"
   ]
  },
  {
   "cell_type": "code",
   "execution_count": 4,
   "id": "42f8bbce",
   "metadata": {},
   "outputs": [],
   "source": [
    "X_train, X_test, y_train, y_test = train_test_split(X, y, train_size = 0.8, stratify = y)"
   ]
  },
  {
   "cell_type": "code",
   "execution_count": 5,
   "id": "00c2e889",
   "metadata": {},
   "outputs": [
    {
     "data": {
      "text/plain": [
       "((2032008, 47), (508003, 47), (2032008,), (508003,))"
      ]
     },
     "execution_count": 5,
     "metadata": {},
     "output_type": "execute_result"
    }
   ],
   "source": [
    "X_train.shape, X_test.shape, y_train.shape, y_test.shape"
   ]
  },
  {
   "cell_type": "code",
   "execution_count": 6,
   "id": "30bd7b67",
   "metadata": {},
   "outputs": [],
   "source": [
    "with open('data.pkl',mode='wb') as f:\n",
    "    pk.dump([X_train, y_train, X_test, y_test],f)"
   ]
  },
  {
   "cell_type": "code",
   "execution_count": null,
   "id": "a86a4fde",
   "metadata": {},
   "outputs": [],
   "source": []
  },
  {
   "cell_type": "code",
   "execution_count": null,
   "id": "d13106de",
   "metadata": {},
   "outputs": [],
   "source": []
  }
 ],
 "metadata": {
  "kernelspec": {
   "display_name": "Python 3 (ipykernel)",
   "language": "python",
   "name": "python3"
  },
  "language_info": {
   "codemirror_mode": {
    "name": "ipython",
    "version": 3
   },
   "file_extension": ".py",
   "mimetype": "text/x-python",
   "name": "python",
   "nbconvert_exporter": "python",
   "pygments_lexer": "ipython3",
   "version": "3.9.13"
  }
 },
 "nbformat": 4,
 "nbformat_minor": 5
}
