{
 "cells": [
  {
   "cell_type": "markdown",
   "id": "7f5551a7",
   "metadata": {},
   "source": [
    "# Dataset Feature Extraction"
   ]
  },
  {
   "cell_type": "markdown",
   "id": "c2d1db64",
   "metadata": {},
   "source": [
    "On this stage we will extract the parameters who most contributes to the caracterization of the dataset."
   ]
  },
  {
   "cell_type": "code",
   "execution_count": 1,
   "id": "8732c7c3",
   "metadata": {},
   "outputs": [],
   "source": [
    "import pandas as pd\n",
    "import pickle as pk\n",
    "from sklearn.ensemble import RandomForestClassifier\n",
    "from sklearn.model_selection import GridSearchCV\n",
    "from sklearn.metrics import classification_report"
   ]
  },
  {
   "cell_type": "code",
   "execution_count": 2,
   "id": "d9c4f71d",
   "metadata": {},
   "outputs": [],
   "source": [
    "with open(\"data-normalized.pkl\", 'rb') as f:\n",
    "    X_train, y_train, X_test, y_test = pk.load(f)"
   ]
  },
  {
   "cell_type": "code",
   "execution_count": 3,
   "id": "eb0a3c89",
   "metadata": {},
   "outputs": [
    {
     "data": {
      "text/plain": [
       "((3549974, 47), (3549974,), (508003, 47), (508003,))"
      ]
     },
     "execution_count": 3,
     "metadata": {},
     "output_type": "execute_result"
    }
   ],
   "source": [
    "X_train.shape, y_train.shape, X_test.shape, y_test.shape"
   ]
  },
  {
   "cell_type": "markdown",
   "id": "c4a231aa",
   "metadata": {},
   "source": [
    "Selecting the most important features of the dataset."
   ]
  },
  {
   "cell_type": "code",
   "execution_count": 4,
   "id": "4ad00bd0",
   "metadata": {
    "scrolled": false
   },
   "outputs": [
    {
     "name": "stderr",
     "output_type": "stream",
     "text": [
      "C:\\Users\\lipey\\anaconda3\\lib\\site-packages\\sklearn\\model_selection\\_validation.py:372: FitFailedWarning: \n",
      "540 fits failed out of a total of 810.\n",
      "The score on these train-test partitions for these parameters will be set to nan.\n",
      "If these failures are not expected, you can try to debug them by setting error_score='raise'.\n",
      "\n",
      "Below are more details about the failures:\n",
      "--------------------------------------------------------------------------------\n",
      "270 fits failed with the following error:\n",
      "Traceback (most recent call last):\n",
      "  File \"C:\\Users\\lipey\\anaconda3\\lib\\site-packages\\sklearn\\model_selection\\_validation.py\", line 680, in _fit_and_score\n",
      "    estimator.fit(X_train, y_train, **fit_params)\n",
      "  File \"C:\\Users\\lipey\\anaconda3\\lib\\site-packages\\sklearn\\ensemble\\_forest.py\", line 450, in fit\n",
      "    trees = Parallel(\n",
      "  File \"C:\\Users\\lipey\\anaconda3\\lib\\site-packages\\joblib\\parallel.py\", line 1043, in __call__\n",
      "    if self.dispatch_one_batch(iterator):\n",
      "  File \"C:\\Users\\lipey\\anaconda3\\lib\\site-packages\\joblib\\parallel.py\", line 861, in dispatch_one_batch\n",
      "    self._dispatch(tasks)\n",
      "  File \"C:\\Users\\lipey\\anaconda3\\lib\\site-packages\\joblib\\parallel.py\", line 779, in _dispatch\n",
      "    job = self._backend.apply_async(batch, callback=cb)\n",
      "  File \"C:\\Users\\lipey\\anaconda3\\lib\\site-packages\\joblib\\_parallel_backends.py\", line 208, in apply_async\n",
      "    result = ImmediateResult(func)\n",
      "  File \"C:\\Users\\lipey\\anaconda3\\lib\\site-packages\\joblib\\_parallel_backends.py\", line 572, in __init__\n",
      "    self.results = batch()\n",
      "  File \"C:\\Users\\lipey\\anaconda3\\lib\\site-packages\\joblib\\parallel.py\", line 262, in __call__\n",
      "    return [func(*args, **kwargs)\n",
      "  File \"C:\\Users\\lipey\\anaconda3\\lib\\site-packages\\joblib\\parallel.py\", line 262, in <listcomp>\n",
      "    return [func(*args, **kwargs)\n",
      "  File \"C:\\Users\\lipey\\anaconda3\\lib\\site-packages\\sklearn\\utils\\fixes.py\", line 216, in __call__\n",
      "    return self.function(*args, **kwargs)\n",
      "  File \"C:\\Users\\lipey\\anaconda3\\lib\\site-packages\\sklearn\\ensemble\\_forest.py\", line 185, in _parallel_build_trees\n",
      "    tree.fit(X, y, sample_weight=curr_sample_weight, check_input=False)\n",
      "  File \"C:\\Users\\lipey\\anaconda3\\lib\\site-packages\\sklearn\\tree\\_classes.py\", line 937, in fit\n",
      "    super().fit(\n",
      "  File \"C:\\Users\\lipey\\anaconda3\\lib\\site-packages\\sklearn\\tree\\_classes.py\", line 250, in fit\n",
      "    raise ValueError(\n",
      "ValueError: min_samples_split must be an integer greater than 1 or a float in (0.0, 1.0]; got the integer 0\n",
      "\n",
      "--------------------------------------------------------------------------------\n",
      "270 fits failed with the following error:\n",
      "Traceback (most recent call last):\n",
      "  File \"C:\\Users\\lipey\\anaconda3\\lib\\site-packages\\sklearn\\model_selection\\_validation.py\", line 680, in _fit_and_score\n",
      "    estimator.fit(X_train, y_train, **fit_params)\n",
      "  File \"C:\\Users\\lipey\\anaconda3\\lib\\site-packages\\sklearn\\ensemble\\_forest.py\", line 450, in fit\n",
      "    trees = Parallel(\n",
      "  File \"C:\\Users\\lipey\\anaconda3\\lib\\site-packages\\joblib\\parallel.py\", line 1043, in __call__\n",
      "    if self.dispatch_one_batch(iterator):\n",
      "  File \"C:\\Users\\lipey\\anaconda3\\lib\\site-packages\\joblib\\parallel.py\", line 861, in dispatch_one_batch\n",
      "    self._dispatch(tasks)\n",
      "  File \"C:\\Users\\lipey\\anaconda3\\lib\\site-packages\\joblib\\parallel.py\", line 779, in _dispatch\n",
      "    job = self._backend.apply_async(batch, callback=cb)\n",
      "  File \"C:\\Users\\lipey\\anaconda3\\lib\\site-packages\\joblib\\_parallel_backends.py\", line 208, in apply_async\n",
      "    result = ImmediateResult(func)\n",
      "  File \"C:\\Users\\lipey\\anaconda3\\lib\\site-packages\\joblib\\_parallel_backends.py\", line 572, in __init__\n",
      "    self.results = batch()\n",
      "  File \"C:\\Users\\lipey\\anaconda3\\lib\\site-packages\\joblib\\parallel.py\", line 262, in __call__\n",
      "    return [func(*args, **kwargs)\n",
      "  File \"C:\\Users\\lipey\\anaconda3\\lib\\site-packages\\joblib\\parallel.py\", line 262, in <listcomp>\n",
      "    return [func(*args, **kwargs)\n",
      "  File \"C:\\Users\\lipey\\anaconda3\\lib\\site-packages\\sklearn\\utils\\fixes.py\", line 216, in __call__\n",
      "    return self.function(*args, **kwargs)\n",
      "  File \"C:\\Users\\lipey\\anaconda3\\lib\\site-packages\\sklearn\\ensemble\\_forest.py\", line 185, in _parallel_build_trees\n",
      "    tree.fit(X, y, sample_weight=curr_sample_weight, check_input=False)\n",
      "  File \"C:\\Users\\lipey\\anaconda3\\lib\\site-packages\\sklearn\\tree\\_classes.py\", line 937, in fit\n",
      "    super().fit(\n",
      "  File \"C:\\Users\\lipey\\anaconda3\\lib\\site-packages\\sklearn\\tree\\_classes.py\", line 250, in fit\n",
      "    raise ValueError(\n",
      "ValueError: min_samples_split must be an integer greater than 1 or a float in (0.0, 1.0]; got the integer 1\n",
      "\n",
      "  warnings.warn(some_fits_failed_message, FitFailedWarning)\n",
      "C:\\Users\\lipey\\anaconda3\\lib\\site-packages\\sklearn\\model_selection\\_search.py:969: UserWarning: One or more of the test scores are non-finite: [       nan        nan        nan        nan        nan        nan\n",
      " 0.95605255 0.90740515 0.92387518        nan        nan        nan\n",
      "        nan        nan        nan 0.26666679 0.26666642 0.40000013\n",
      "        nan        nan        nan        nan        nan        nan\n",
      " 0.99448065 0.99443181 0.99438226        nan        nan        nan\n",
      "        nan        nan        nan 0.91171234 0.94075061 0.90237096\n",
      "        nan        nan        nan        nan        nan        nan\n",
      " 0.26666667 0.40000013 0.13333346        nan        nan        nan\n",
      "        nan        nan        nan 0.99568038 0.99572345 0.99567314\n",
      "        nan        nan        nan        nan        nan        nan\n",
      " 0.94554405 0.93227748 0.92815644        nan        nan        nan\n",
      "        nan        nan        nan 0.40000025 0.40000013 0.13333346\n",
      "        nan        nan        nan        nan        nan        nan\n",
      " 0.99622013 0.99625882 0.99622433        nan        nan        nan\n",
      "        nan        nan        nan 0.93456433 0.92101362 0.93192894\n",
      "        nan        nan        nan        nan        nan        nan\n",
      " 0.39999987 0.26666667 0.26666642        nan        nan        nan\n",
      "        nan        nan        nan 0.99422929 0.9942376  0.99424086\n",
      "        nan        nan        nan        nan        nan        nan\n",
      " 0.93796575 0.92313099 0.92469821        nan        nan        nan\n",
      "        nan        nan        nan 0.4        0.53333346 0.26666667\n",
      "        nan        nan        nan        nan        nan        nan\n",
      " 0.99554322 0.99551255 0.99553791        nan        nan        nan\n",
      "        nan        nan        nan 0.93768677 0.92952631 0.94759259\n",
      "        nan        nan        nan        nan        nan        nan\n",
      " 0.66666667 0.26666667 0.4               nan        nan        nan\n",
      "        nan        nan        nan 0.99617867 0.99620582 0.99619003]\n",
      "  warnings.warn(\n"
     ]
    },
    {
     "name": "stdout",
     "output_type": "stream",
     "text": [
      "CPU times: total: 8h 24min 30s\n",
      "Wall time: 8h 48min 31s\n"
     ]
    },
    {
     "data": {
      "text/plain": [
       "{'criterion': 'gini',\n",
       " 'max_depth': 25,\n",
       " 'min_samples_leaf': 1,\n",
       " 'min_samples_split': 2,\n",
       " 'n_estimators': 70}"
      ]
     },
     "execution_count": 4,
     "metadata": {},
     "output_type": "execute_result"
    }
   ],
   "source": [
    "%%time\n",
    "\n",
    "param_grid = {\n",
    "    \"criterion\": ['gini', 'entropy'],\n",
    "    \"max_depth\": [15, 20, 25],\n",
    "    \"n_estimators\": [60, 70, 75],\n",
    "    \"min_samples_split\":[0,1,2],\n",
    "    \"min_samples_leaf\":[0.2,0.5,1]\n",
    "}\n",
    "\n",
    "cf = RandomForestClassifier()\n",
    "cf_cv = GridSearchCV(estimator=cf, param_grid=param_grid, scoring=\"f1\", cv=5)\n",
    "cf_cv.fit(X_train, y_train)\n",
    "\n",
    "cf_cv.best_params_"
   ]
  },
  {
   "cell_type": "code",
   "execution_count": 5,
   "id": "2a943fad",
   "metadata": {},
   "outputs": [],
   "source": [
    "rfc = RandomForestClassifier(verbose=1, random_state = 0, max_depth = 25, min_samples_leaf=1,min_samples_split=2, n_estimators=75 )"
   ]
  },
  {
   "cell_type": "code",
   "execution_count": null,
   "id": "881e27ca",
   "metadata": {},
   "outputs": [
    {
     "name": "stderr",
     "output_type": "stream",
     "text": [
      "[Parallel(n_jobs=1)]: Using backend SequentialBackend with 1 concurrent workers.\n"
     ]
    }
   ],
   "source": [
    "rfc.fit(X_train, y_train)\n",
    "y_pred= rfc.predict(X_test)"
   ]
  },
  {
   "cell_type": "code",
   "execution_count": null,
   "id": "c5a553cb",
   "metadata": {},
   "outputs": [],
   "source": [
    "print('Matrix:', classification_report(y_test,y_pred))"
   ]
  },
  {
   "cell_type": "code",
   "execution_count": null,
   "id": "188734a5",
   "metadata": {},
   "outputs": [],
   "source": [
    "col_names = ['srcip', 'sport', 'dstip', 'dsport', 'proto', 'state', 'dur', 'sbytes',\n",
    "       'dbytes', 'sttl', 'dttl', 'sloss', 'dloss', 'service', 'Sload', 'Dload',\n",
    "       'Spkts', 'Dpkts', 'swin', 'dwin', 'stcpb', 'dtcpb', 'smeansz',\n",
    "       'dmeansz', 'trans_depth', 'res_bdy_len', 'Sjit', 'Djit', 'Stime',\n",
    "       'Ltime', 'Sintpkt', 'Dintpkt', 'tcprtt', 'synack', 'ackdat',\n",
    "       'is_sm_ips_ports', 'ct_state_ttl', 'ct_flw_http_mthd', 'is_ftp_login',\n",
    "       'ct_ftp_cmd', 'ct_srv_src', 'ct_srv_dst', 'ct_dst_ltm', 'ct_src_ ltm',\n",
    "       'ct_src_dport_ltm', 'ct_dst_sport_ltm', 'ct_dst_src_ltm']"
   ]
  },
  {
   "cell_type": "code",
   "execution_count": null,
   "id": "215d5ab6",
   "metadata": {},
   "outputs": [],
   "source": [
    "fi = pd.DataFrame({ 'feature':col_names, 'importance': rfc.feature_importances_}).sort_values('importance',  ascending = False)\n",
    "fi.head(7)"
   ]
  },
  {
   "cell_type": "code",
   "execution_count": null,
   "id": "967c9652",
   "metadata": {},
   "outputs": [],
   "source": [
    "from matplotlib import pyplot\n",
    "importance = rfc.feature_importances_\n",
    "pyplot.xlabel('Característica')\n",
    "pyplot.ylabel('Importância')\n",
    "pyplot.bar([x for x in range(len(importance))], importance)\n",
    "pyplot.show()"
   ]
  },
  {
   "cell_type": "code",
   "execution_count": null,
   "id": "0dd84d5c",
   "metadata": {},
   "outputs": [],
   "source": [
    "X_train= X_train[:,[0,36,9,23,8,14,10]].copy()\n",
    "X_test = X_test[:,[0,36,9,23,8,14,10]].copy()"
   ]
  },
  {
   "cell_type": "code",
   "execution_count": null,
   "id": "3a05dc06",
   "metadata": {},
   "outputs": [],
   "source": [
    "with open('dataset-nids.pkl',mode='wb') as f:\n",
    "    pickle.dump([X_train, y_train, X_test, y_test],f)"
   ]
  }
 ],
 "metadata": {
  "kernelspec": {
   "display_name": "Python 3 (ipykernel)",
   "language": "python",
   "name": "python3"
  },
  "language_info": {
   "codemirror_mode": {
    "name": "ipython",
    "version": 3
   },
   "file_extension": ".py",
   "mimetype": "text/x-python",
   "name": "python",
   "nbconvert_exporter": "python",
   "pygments_lexer": "ipython3",
   "version": "3.9.12"
  }
 },
 "nbformat": 4,
 "nbformat_minor": 5
}
