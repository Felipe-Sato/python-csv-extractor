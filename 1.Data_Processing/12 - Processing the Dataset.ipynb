{
 "cells": [
  {
   "cell_type": "markdown",
   "id": "eb49e3ac",
   "metadata": {},
   "source": [
    "# 02 - Preparing the Dataset"
   ]
  },
  {
   "cell_type": "markdown",
   "id": "a8034bfb",
   "metadata": {},
   "source": [
    "On this stage we'll fix inconsisteces and missing values"
   ]
  },
  {
   "cell_type": "code",
   "execution_count": 1,
   "id": "388b9a1e",
   "metadata": {},
   "outputs": [],
   "source": [
    "import pandas as pd\n",
    "import numpy as np\n",
    "import struct as st\n",
    "import socket as sk\n",
    "from sklearn.preprocessing import LabelEncoder"
   ]
  },
  {
   "cell_type": "code",
   "execution_count": 2,
   "id": "fbbac6a3",
   "metadata": {},
   "outputs": [
    {
     "name": "stderr",
     "output_type": "stream",
     "text": [
      "C:\\Users\\lipey\\AppData\\Local\\Temp\\ipykernel_1740\\32101263.py:1: DtypeWarning: Columns (2,4,40,48) have mixed types. Specify dtype option on import or set low_memory=False.\n",
      "  df = pd.read_csv('../Dataset/UNSW-NB15.csv', index_col = [0])\n"
     ]
    }
   ],
   "source": [
    "df = pd.read_csv('../Dataset/UNSW-NB15.csv', index_col = [0])"
   ]
  },
  {
   "cell_type": "markdown",
   "id": "346dca86",
   "metadata": {},
   "source": [
    "### Droping unnecessary column"
   ]
  },
  {
   "cell_type": "code",
   "execution_count": 3,
   "id": "62de0982",
   "metadata": {},
   "outputs": [],
   "source": [
    "df.drop(columns='attack_cat', inplace = True)"
   ]
  },
  {
   "cell_type": "markdown",
   "id": "7a892af2",
   "metadata": {},
   "source": [
    "### Fixing the Router's Address"
   ]
  },
  {
   "cell_type": "code",
   "execution_count": 4,
   "id": "ab805971",
   "metadata": {},
   "outputs": [],
   "source": [
    "df.loc[df.srcip == '192168241243','srcip'] = '192.168.241.243'\n",
    "df.loc[df.dstip == '192168241243','dstip'] = '192.168.241.243'"
   ]
  },
  {
   "cell_type": "markdown",
   "id": "cc22b8b4",
   "metadata": {},
   "source": [
    "### Handling inconsistent data"
   ]
  },
  {
   "cell_type": "code",
   "execution_count": 5,
   "id": "d9d25457",
   "metadata": {},
   "outputs": [],
   "source": [
    "# Converting IP to INT\n",
    "df['srcip'] = df.srcip.apply(lambda x: st.unpack('!I', sk.inet_aton(x))[0])\n",
    "df['dstip'] = df.dstip.apply(lambda x: st.unpack('!I', sk.inet_aton(x))[0])"
   ]
  },
  {
   "cell_type": "code",
   "execution_count": 6,
   "id": "35e2e1f4",
   "metadata": {},
   "outputs": [],
   "source": [
    "# Converting HEX to DEC\n",
    "df.loc[df.dsport == '0xc0a8','dsport'] = '49320'\n",
    "df.loc[df.dsport == '0x20205321','dsport'] = '538989345'\n",
    "df.loc[df.dsport == '0xcc09','dsport'] = '52233'\n",
    "df.loc[df.sport == '0x000b','sport'] = '11'\n",
    "df.loc[df.sport == '0x000c','sport'] = '12'"
   ]
  },
  {
   "cell_type": "code",
   "execution_count": 7,
   "id": "a4448ba6",
   "metadata": {},
   "outputs": [],
   "source": [
    "# Inconsistence and  Missing values\n",
    "df.loc[df.ct_ftp_cmd == ' ', 'ct_ftp_cmd'] = df.ct_flw_http_mthd.mean()\n",
    "df.drop(df.loc[df.dsport == '-'].index, inplace = True)\n",
    "df.drop(df.loc[df.sport == '-'].index, inplace = True)\n",
    "df.ct_flw_http_mthd.fillna(df.ct_flw_http_mthd.mean(), inplace = True)\n",
    "df.is_ftp_login.fillna(df.is_ftp_login .mean(), inplace = True)"
   ]
  },
  {
   "cell_type": "code",
   "execution_count": 8,
   "id": "c7baea0f",
   "metadata": {},
   "outputs": [
    {
     "data": {
      "text/plain": [
       "0         0.001055\n",
       "1         0.036133\n",
       "2         0.001119\n",
       "3         0.001209\n",
       "4         0.001169\n",
       "            ...   \n",
       "440039    0.087306\n",
       "440040    0.365058\n",
       "440041    6.335154\n",
       "440042    2.200934\n",
       "440043    0.942984\n",
       "Name: dur, Length: 2540011, dtype: float64"
      ]
     },
     "execution_count": 8,
     "metadata": {},
     "output_type": "execute_result"
    }
   ],
   "source": [
    "# Converting object\n",
    "df.sport.astype(int)\n",
    "df.dsport.astype(int)\n",
    "df.ackdat.astype(float)\n",
    "df.dur.astype(float)"
   ]
  },
  {
   "cell_type": "code",
   "execution_count": 9,
   "id": "65dcec7a",
   "metadata": {},
   "outputs": [],
   "source": [
    "# Handling data\n",
    "Encoder = LabelEncoder()\n",
    "df.proto = Encoder.fit_transform(df.proto)\n",
    "df.state = Encoder.fit_transform(df.state)\n",
    "df.service = Encoder.fit_transform(df.service)"
   ]
  },
  {
   "cell_type": "code",
   "execution_count": 10,
   "id": "8b6c8751",
   "metadata": {},
   "outputs": [],
   "source": [
    "# Handling NaN Values\n",
    "df.dur.fillna(df.dur.mean(), inplace = True)\n",
    "df.ackdat.fillna(df.ackdat.mean(), inplace = True)"
   ]
  },
  {
   "cell_type": "markdown",
   "id": "753d104f",
   "metadata": {},
   "source": [
    "### Exporting"
   ]
  },
  {
   "cell_type": "code",
   "execution_count": 11,
   "id": "4346dd35",
   "metadata": {},
   "outputs": [],
   "source": [
    "df.to_csv('../Dataset/Dataset-Preprocessing.csv')"
   ]
  },
  {
   "cell_type": "code",
   "execution_count": null,
   "id": "81fe0732",
   "metadata": {},
   "outputs": [],
   "source": []
  }
 ],
 "metadata": {
  "kernelspec": {
   "display_name": "Python 3 (ipykernel)",
   "language": "python",
   "name": "python3"
  },
  "language_info": {
   "codemirror_mode": {
    "name": "ipython",
    "version": 3
   },
   "file_extension": ".py",
   "mimetype": "text/x-python",
   "name": "python",
   "nbconvert_exporter": "python",
   "pygments_lexer": "ipython3",
   "version": "3.9.13"
  }
 },
 "nbformat": 4,
 "nbformat_minor": 5
}
