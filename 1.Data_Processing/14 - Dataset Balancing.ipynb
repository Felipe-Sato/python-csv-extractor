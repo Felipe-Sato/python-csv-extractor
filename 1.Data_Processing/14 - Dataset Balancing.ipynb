{
 "cells": [
  {
   "cell_type": "markdown",
   "id": "dca55e96",
   "metadata": {},
   "source": [
    "# 04 - Dataset Normalization and Balancing"
   ]
  },
  {
   "cell_type": "markdown",
   "id": "ecba21f1",
   "metadata": {},
   "source": [
    "In this file we'll balance the dataset by utilizing the Synthetic Minority Oversampling Technique (SMOTE) and normalize the data."
   ]
  },
  {
   "cell_type": "code",
   "execution_count": 1,
   "id": "48b12a21",
   "metadata": {},
   "outputs": [],
   "source": [
    "import pandas as pd\n",
    "import pickle as pk\n",
    "from sklearn.preprocessing import MinMaxScaler\n",
    "from sklearn import preprocessing"
   ]
  },
  {
   "cell_type": "code",
   "execution_count": 2,
   "id": "d374846a",
   "metadata": {},
   "outputs": [],
   "source": [
    "with open('data.pkl','rb') as f:\n",
    "    X_train, y_train, X_test, y_test = pk.load(f)"
   ]
  },
  {
   "cell_type": "code",
   "execution_count": 3,
   "id": "3d768327",
   "metadata": {},
   "outputs": [
    {
     "data": {
      "text/plain": [
       "((2032008, 47), (508003, 47), (2032008,), (508003,))"
      ]
     },
     "execution_count": 3,
     "metadata": {},
     "output_type": "execute_result"
    }
   ],
   "source": [
    "X_train.shape, X_test.shape, y_train.shape, y_test.shape"
   ]
  },
  {
   "cell_type": "markdown",
   "id": "bbbc77f9",
   "metadata": {},
   "source": [
    "## Data Normalization"
   ]
  },
  {
   "cell_type": "code",
   "execution_count": 4,
   "id": "a7750aed",
   "metadata": {},
   "outputs": [],
   "source": [
    "min_max_scaler = preprocessing.MinMaxScaler()"
   ]
  },
  {
   "cell_type": "code",
   "execution_count": 5,
   "id": "de682708",
   "metadata": {},
   "outputs": [],
   "source": [
    "X_train = min_max_scaler.fit_transform(X_train)"
   ]
  },
  {
   "cell_type": "code",
   "execution_count": 6,
   "id": "76c47b31",
   "metadata": {},
   "outputs": [],
   "source": [
    "X_test = min_max_scaler.fit_transform(X_test)"
   ]
  },
  {
   "cell_type": "markdown",
   "id": "313eed87",
   "metadata": {},
   "source": [
    "## SMOTE Balancing"
   ]
  },
  {
   "cell_type": "code",
   "execution_count": 7,
   "id": "e7d81aae",
   "metadata": {},
   "outputs": [],
   "source": [
    "from imblearn.over_sampling import SMOTE"
   ]
  },
  {
   "cell_type": "code",
   "execution_count": 8,
   "id": "ca5eef1b",
   "metadata": {},
   "outputs": [],
   "source": [
    "smote = SMOTE()\n",
    "X_smote_res, y_smote_res = smote.fit_resample(X_train, y_train)"
   ]
  },
  {
   "cell_type": "code",
   "execution_count": 9,
   "id": "acd89794",
   "metadata": {},
   "outputs": [],
   "source": [
    "with open('data-normalized.pkl',mode='wb') as f:\n",
    "    pk.dump([X_smote_res, y_smote_res, X_test, y_test],f)"
   ]
  },
  {
   "cell_type": "code",
   "execution_count": 10,
   "id": "aa8eb29f",
   "metadata": {},
   "outputs": [
    {
     "data": {
      "text/plain": [
       "((3549974, 47), (3549974,))"
      ]
     },
     "execution_count": 10,
     "metadata": {},
     "output_type": "execute_result"
    }
   ],
   "source": [
    "X_smote_res.shape, y_smote_res.shape"
   ]
  },
  {
   "cell_type": "code",
   "execution_count": null,
   "id": "14c76b98",
   "metadata": {},
   "outputs": [],
   "source": []
  }
 ],
 "metadata": {
  "kernelspec": {
   "display_name": "Python 3 (ipykernel)",
   "language": "python",
   "name": "python3"
  },
  "language_info": {
   "codemirror_mode": {
    "name": "ipython",
    "version": 3
   },
   "file_extension": ".py",
   "mimetype": "text/x-python",
   "name": "python",
   "nbconvert_exporter": "python",
   "pygments_lexer": "ipython3",
   "version": "3.9.13"
  }
 },
 "nbformat": 4,
 "nbformat_minor": 5
}
