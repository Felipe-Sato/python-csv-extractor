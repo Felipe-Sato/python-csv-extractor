{
 "cells": [
  {
   "cell_type": "code",
   "execution_count": 1,
   "id": "04d750ea",
   "metadata": {},
   "outputs": [],
   "source": [
    "import pandas as pd\n",
    "import pickle as pk\n",
    "import numpy as np\n",
    "import matplotlib as plt\n",
    "from sklearn.naive_bayes import GaussianNB\n",
    "from sklearn.ensemble import AdaBoostClassifier"
   ]
  },
  {
   "cell_type": "code",
   "execution_count": 2,
   "id": "ee6b57ef",
   "metadata": {},
   "outputs": [],
   "source": [
    "with open('../1.Data_Processing/dataset-nids.pkl', 'rb') as f:\n",
    "    X_train, y_train, X_test, y_test = pk.load(f)"
   ]
  },
  {
   "cell_type": "code",
   "execution_count": 3,
   "id": "d51335aa",
   "metadata": {},
   "outputs": [
    {
     "data": {
      "text/plain": [
       "((3549974, 7), (3549974,), (508003, 7), (508003,))"
      ]
     },
     "execution_count": 3,
     "metadata": {},
     "output_type": "execute_result"
    }
   ],
   "source": [
    "X_train.shape, y_train.shape, X_test.shape, y_test.shape"
   ]
  },
  {
   "cell_type": "code",
   "execution_count": 4,
   "id": "3a95c727",
   "metadata": {},
   "outputs": [],
   "source": [
    "gnb = GaussianNB()\n",
    "abc = AdaBoostClassifier()"
   ]
  },
  {
   "cell_type": "code",
   "execution_count": 5,
   "id": "391928e7",
   "metadata": {},
   "outputs": [],
   "source": [
    "from sklearn.metrics import accuracy_score, recall_score, f1_score\n",
    "from sklearn.metrics import precision_recall_curve, auc, roc_curve, roc_auc_score\n",
    "from sklearn.metrics import confusion_matrix, ConfusionMatrixDisplay\n",
    "import matplotlib.pyplot as plt"
   ]
  },
  {
   "cell_type": "code",
   "execution_count": 7,
   "id": "1b78e27c",
   "metadata": {},
   "outputs": [],
   "source": [
    "gnb_fit = gnb.fit(X_train, y_train)\n",
    "abc_fit = abc.fit(X_train, y_train)"
   ]
  },
  {
   "cell_type": "code",
   "execution_count": 8,
   "id": "37ac47dd",
   "metadata": {},
   "outputs": [],
   "source": [
    "y_pred_gnb = gnb_fit.predict_proba(X_test)[::,1]\n",
    "y_pred_abc = abc_fit.predict_proba(X_test)[::,1]"
   ]
  },
  {
   "cell_type": "code",
   "execution_count": 9,
   "id": "c9146a13",
   "metadata": {},
   "outputs": [
    {
     "data": {
      "image/png": "[encoded data removed]",
      "text/plain": [
       "<Figure size 432x288 with 1 Axes>"
      ]
     },
     "metadata": {
      "needs_background": "light"
     },
     "output_type": "display_data"
    }
   ],
   "source": [
    "fpr, tpr, _ = roc_curve(y_test,  y_pred_gnb)\n",
    "auc = roc_auc_score(y_test, y_pred_gnb)\n",
    "plt.plot(fpr,tpr,color='blue',label=\"Gaussian Naïve-Bayes, AUC=\"+str(round(auc,4)))\n",
    "\n",
    "fpr, tpr, _ = roc_curve(y_test,  y_pred_abc)\n",
    "auc = roc_auc_score(y_test, y_pred_abc)\n",
    "plt.plot(fpr,tpr,color='red',label=\"AdaBoost Classifier, AUC=\"+str(round(auc,4)))\n",
    "\n",
    "plt.ylabel('\\nSensibilidade \\n(TVP)')\n",
    "plt.xlabel('\\n 1 - Especifidade \\n(TFP)')\n",
    "plt.title('Curva ROC')\n",
    "plt.legend(loc=4)\n",
    "plt.show()"
   ]
  },
  {
   "cell_type": "code",
   "execution_count": null,
   "id": "d1d14ba3",
   "metadata": {},
   "outputs": [],
   "source": []
  }
 ],
 "metadata": {
  "kernelspec": {
   "display_name": "Python 3 (ipykernel)",
   "language": "python",
   "name": "python3"
  },
  "language_info": {
   "codemirror_mode": {
    "name": "ipython",
    "version": 3
   },
   "file_extension": ".py",
   "mimetype": "text/x-python",
   "name": "python",
   "nbconvert_exporter": "python",
   "pygments_lexer": "ipython3",
   "version": "3.9.12"
  }
 },
 "nbformat": 4,
 "nbformat_minor": 5
}
